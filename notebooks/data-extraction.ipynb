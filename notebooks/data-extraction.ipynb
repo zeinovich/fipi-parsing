{
 "cells": [
  {
   "cell_type": "code",
   "execution_count": 2,
   "metadata": {},
   "outputs": [],
   "source": [
    "import os\n",
    "import requests\n",
    "import json\n",
    "import urllib3\n",
    "\n",
    "urllib3.disable_warnings(urllib3.exceptions.InsecureRequestWarning)\n"
   ]
  },
  {
   "cell_type": "code",
   "execution_count": 53,
   "metadata": {},
   "outputs": [
    {
     "name": "stdout",
     "output_type": "stream",
     "text": [
      "http://ege.fipi.ru/bank/questions.php?proj=AF0ED3F2557F8FFC4C06F80B6803FD26&page=5\n"
     ]
    }
   ],
   "source": [
    "PROJECT_ID = \"AF0ED3F2557F8FFC4C06F80B6803FD26\"\n",
    "\n",
    "PAGE = 5\n",
    "url = f\"http://ege.fipi.ru/bank/questions.php?proj={PROJECT_ID}&page={PAGE}\"\n",
    "\n",
    "cookies = {\n",
    "    'PHPSESSID': 'l05rodk7k5ul2ejlirhj3dlr47',\n",
    "    '__ddg1_': '51QNxivaOddslX6I0uHG',\n",
    "    '_ym_d': '1732536813',\n",
    "    '_ym_uid': '1732536813833014376',\n",
    "    'md_auto': 'qprint'\n",
    "}\n",
    "\n",
    "\n",
    "response = requests.get(url, cookies=cookies)\n",
    "\n",
    "html_content = response.text\n",
    "print(url)"
   ]
  },
  {
   "cell_type": "code",
   "execution_count": 47,
   "metadata": {},
   "outputs": [],
   "source": [
    "from bs4 import BeautifulSoup\n",
    "\n",
    "soup = BeautifulSoup(html_content, \"html.parser\")"
   ]
  },
  {
   "cell_type": "code",
   "execution_count": 48,
   "metadata": {},
   "outputs": [],
   "source": [
    "tasks = soup.find_all('div', {'class': 'qblock'})"
   ]
  },
  {
   "cell_type": "code",
   "execution_count": 74,
   "metadata": {},
   "outputs": [],
   "source": [
    "task = tasks[1]"
   ]
  },
  {
   "cell_type": "code",
   "execution_count": 91,
   "metadata": {},
   "outputs": [
    {
     "data": {
      "text/plain": [
       "bs4.element.Tag"
      ]
     },
     "execution_count": 91,
     "metadata": {},
     "output_type": "execute_result"
    }
   ],
   "source": [
    "type(task)"
   ]
  },
  {
   "cell_type": "code",
   "execution_count": 75,
   "metadata": {},
   "outputs": [
    {
     "data": {
      "text/plain": [
       "<div class=\"qblock\" id=\"qA32542\"> <div class=\"hint\" id=\"hint\" name=\"hint\">Впишите правильный ответ.</div>\n",
       "<form action=\"javascript:noAction()\" id=\"checkformA32542\" method=\"get\" name=\"checkformA32542\">\n",
       "<input name=\"guid\" type=\"Hidden\" value=\"0966E882298ABD6541002E13DDC25ED8\"/>\n",
       "<script language=\"JavaScript\"> \n",
       " function setAnswerA32542(aform)\n",
       " {;}\n",
       " </script><table bgcolor=\"gray\" border=\"0\" cellpadding=\"2\" cellspacing=\"1\" width=\"100%\">\n",
       "<tr><td bgcolor=\"#FAFBCA\" class=\"cell_0\" valign=\"top\" width=\"100%\"> <p class=\"MsoNormal\"><a name=\"_GoBack\"></a>Найдите предложения, в которых <b>запятая(-ые) </b>ставится(-ятся) в соответствии с одним и тем же правилом пунктуации. Запишите номера этих предложений. </p> <p class=\"MsoNormal\"><span> </span></p> <p class=\"MsoNormal\">(1)Маршрут «Золотое кольцо России» постоянно развивался с момента своего появления в 70-х годах <span lang=\"EN-US\">XX</span> века: появлялись новые точки на маршрутной карте, совершенствовался сервис. (2)Изначально маршрут состоял из восьми городов: Сергиева Посада (тогда – Загорска), Переславля-Залесского, Ростова Великого, Ярославля, Костромы, Ива́нова, Суздаля, Владимира. <span>(3)Недавно к ним присоединился Углич – старинный русский город, расположенный на берегу Волги. (4)Сейчас формируется список населённых пунктов, которые смогут войти в «Золотое кольцо» России: среди них, например, Рязань.</span> (5)На сегодняшний день можно говорить о серьёзных качественных изменениях: пополнилась инфраструктура новыми пунктами размещения и питания, улучшились дороги и средства связи, повысился уровень обслуживания и безопасности туристов. (6)На маршруте активно развиваются разные виды туризма.</p> </td></tr>\n",
       "<tr bgcolor=\"#FFFFFF\"><td>\n",
       "<table class=\"submit-outblock\" width=\"100%\">\n",
       "<tr><td class=\"varinats-block\"><a name=\"variants\"></a><br/><div><table cellpadding=\"1\" cellspacing=\"0\" width=\"100%\"><tr><td width=\"100%\"><input maxlength=\"250\" name=\"answer\" size=\"40\" type=\"text\" value=\"\"/></td></tr></table></div><br/></td></tr>\n",
       "<tr><td class=\"submit-block\"></td></tr>\n",
       "</table>\n",
       "</td></tr></table> </form>\n",
       "<form name=\"chkcodeform\">\n",
       "<input name=\"guid\" type=\"hidden\" value=\"0966E882298ABD6541002E13DDC25ED8\"/>\n",
       "<input name=\"answer\" type=\"hidden\" value=\"\"/>\n",
       "<input name=\"chkcode\" type=\"hidden\" value=\"\"/>\n",
       "</form> </div>"
      ]
     },
     "execution_count": 75,
     "metadata": {},
     "output_type": "execute_result"
    }
   ],
   "source": [
    "task "
   ]
  },
  {
   "cell_type": "code",
   "execution_count": 76,
   "metadata": {},
   "outputs": [
    {
     "data": {
      "text/plain": [
       "('qA32542', 'iA32542')"
      ]
     },
     "execution_count": 76,
     "metadata": {},
     "output_type": "execute_result"
    }
   ],
   "source": [
    "task_id = task['id']\n",
    "task_info = f'i{task_id[1:]}'\n",
    "task_id, task_info "
   ]
  },
  {
   "cell_type": "code",
   "execution_count": 77,
   "metadata": {},
   "outputs": [
    {
     "data": {
      "text/plain": [
       "'0966E882298ABD6541002E13DDC25ED8'"
      ]
     },
     "execution_count": 77,
     "metadata": {},
     "output_type": "execute_result"
    }
   ],
   "source": [
    "task.find('input', {'name': 'guid'})['value']"
   ]
  },
  {
   "cell_type": "code",
   "execution_count": 78,
   "metadata": {},
   "outputs": [
    {
     "name": "stdout",
     "output_type": "stream",
     "text": [
      "Найдите предложения, в которых запятая(-ые) ставится(-ятся) в соответствии с одним и тем же правилом пунктуации. Запишите номера этих предложений.\n",
      "(1)Маршрут «Золотое кольцо России» постоянно развивался с момента своего появления в 70-х годах XX века: появлялись новые точки на маршрутной карте, совершенствовался сервис. (2)Изначально маршрут состоял из восьми городов: Сергиева Посада (тогда – Загорска), Переславля-Залесского, Ростова Великого, Ярославля, Костромы, Ива́нова, Суздаля, Владимира. (3)Недавно к ним присоединился Углич – старинный русский город, расположенный на берегу Волги. (4)Сейчас формируется список населённых пунктов, которые смогут войти в «Золотое кольцо» России: среди них, например, Рязань. (5)На сегодняшний день можно говорить о серьёзных качественных изменениях: пополнилась инфраструктура новыми пунктами размещения и питания, улучшились дороги и средства связи, повысился уровень обслуживания и безопасности туристов. (6)На маршруте активно развиваются разные виды туризма.\n",
      "3\n"
     ]
    }
   ],
   "source": [
    "content = \"\"\n",
    "for i, elem in enumerate(task.find_all('p')):\n",
    "    if i != 0:\n",
    "        content = content.strip()\n",
    "        content += \"\\n\"\n",
    "    content += elem.text\n",
    "\n",
    "print(content)\n",
    "print(len(task.find_all('p')))"
   ]
  },
  {
   "cell_type": "code",
   "execution_count": 79,
   "metadata": {},
   "outputs": [
    {
     "data": {
      "text/plain": [
       "<div id=\"iA32542\">\n",
       "<div class=\"separator\"></div>\n",
       "<div class=\"task-header-panel\">\n",
       "<div class=\"info-button\" onclick='this.parentNode.classList.toggle(\"show-info\")'>i</div>\n",
       "<div class=\"task-info-panel\">\n",
       "<div class=\"task-info-title\">\n",
       "<span>СВОЙСТВА ЗАДАНИЯ</span>\n",
       "<span class=\"task-info-title-close-button\" onclick='this.parentNode.parentNode.parentNode.classList.toggle(\"show-info\")'></span>\n",
       "</div>\n",
       "<div class=\"task-info-content\">\n",
       "<table><tbody>\n",
       "<tr><td class=\"param-name\">КЭС:</td><td class=\"param-row\"><div>3.8.1 Пунктуационный анализ предложения</div><div>3.8.3 Знаки препинания между подлежащим и сказуемым</div><div>3.8.4 Знаки препинания в предложениях с однородными членами</div><div>3.8.5 Знаки препинания при обособлении</div><div>3.8.6 Знаки препинания в предложениях с вводными конструкциями, обращениями, междометиями </div><div>3.8.7 Знаки препинания в сложном предложении</div><div>3.8.9 Знаки препинания при передаче чужой речи</div></td></tr> <tr><td class=\"param-name\">Тип ответа:</td><td>Краткий ответ</td></tr> </tbody></table>\n",
       "</div>\n",
       "</div>\n",
       "<div class=\"id-text\">Номер: <span class=\"canselect\">A32542</span></div>\n",
       "<div class=\"favorite-button\" onclick=\"changeFavour(this,'0966E882298ABD6541002E13DDC25ED8')\" title=\"Добавить в Избранное\"></div>\n",
       "<div class=\"answer-panel\">\n",
       "<span class=\"status-title-text hidden-xs\">Статус задания:</span>\n",
       "<span class=\"task-status task-status-0\">НЕ РЕШЕНО</span>\n",
       "<span class=\"answer-button\" onclick=\"checkButtonClick('checkformA32542', setAnswerA32542, this.parentNode)\">Ответить</span>\n",
       "</div>\n",
       "</div>\n",
       "</div>"
      ]
     },
     "execution_count": 79,
     "metadata": {},
     "output_type": "execute_result"
    }
   ],
   "source": [
    "task_in = soup.find('div', {'id': task_info})\n",
    "task_in "
   ]
  },
  {
   "cell_type": "code",
   "execution_count": 80,
   "metadata": {},
   "outputs": [
    {
     "data": {
      "text/plain": [
       "[<td class=\"param-name\">КЭС:</td>,\n",
       " <td class=\"param-row\"><div>3.8.1 Пунктуационный анализ предложения</div><div>3.8.3 Знаки препинания между подлежащим и сказуемым</div><div>3.8.4 Знаки препинания в предложениях с однородными членами</div><div>3.8.5 Знаки препинания при обособлении</div><div>3.8.6 Знаки препинания в предложениях с вводными конструкциями, обращениями, междометиями </div><div>3.8.7 Знаки препинания в сложном предложении</div><div>3.8.9 Знаки препинания при передаче чужой речи</div></td>,\n",
       " <td class=\"param-name\">Тип ответа:</td>,\n",
       " <td>Краткий ответ</td>]"
      ]
     },
     "execution_count": 80,
     "metadata": {},
     "output_type": "execute_result"
    }
   ],
   "source": [
    "task_in.find_all('td')"
   ]
  },
  {
   "cell_type": "code",
   "execution_count": 88,
   "metadata": {},
   "outputs": [
    {
     "name": "stdout",
     "output_type": "stream",
     "text": [
      "<div>3.8.1 Пунктуационный анализ предложения</div>\n",
      "<div>3.8.3 Знаки препинания между подлежащим и сказуемым</div>\n",
      "<div>3.8.4 Знаки препинания в предложениях с однородными членами</div>\n",
      "<div>3.8.5 Знаки препинания при обособлении</div>\n",
      "<div>3.8.6 Знаки препинания в предложениях с вводными конструкциями, обращениями, междометиями </div>\n",
      "<div>3.8.7 Знаки препинания в сложном предложении</div>\n",
      "<div>3.8.9 Знаки препинания при передаче чужой речи</div>\n"
     ]
    }
   ],
   "source": [
    "for td in task_in.find('td', {'class': 'param-row'}):\n",
    "    print(td)\n"
   ]
  },
  {
   "cell_type": "code",
   "execution_count": 90,
   "metadata": {},
   "outputs": [
    {
     "data": {
      "text/plain": [
       "'Краткий ответ'"
      ]
     },
     "execution_count": 90,
     "metadata": {},
     "output_type": "execute_result"
    }
   ],
   "source": [
    "task_in.find_all('td')[-1].text"
   ]
  },
  {
   "cell_type": "code",
   "execution_count": null,
   "metadata": {},
   "outputs": [],
   "source": [
    "def "
   ]
  }
 ],
 "metadata": {
  "kernelspec": {
   "display_name": "fipi-parsing",
   "language": "python",
   "name": "python3"
  },
  "language_info": {
   "codemirror_mode": {
    "name": "ipython",
    "version": 3
   },
   "file_extension": ".py",
   "mimetype": "text/x-python",
   "name": "python",
   "nbconvert_exporter": "python",
   "pygments_lexer": "ipython3",
   "version": "3.12.7"
  }
 },
 "nbformat": 4,
 "nbformat_minor": 2
}
