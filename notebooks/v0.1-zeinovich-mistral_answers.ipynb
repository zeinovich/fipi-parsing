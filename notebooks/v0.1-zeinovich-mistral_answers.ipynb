{
 "cells": [
  {
   "cell_type": "markdown",
   "metadata": {},
   "source": [
    "# Imports"
   ]
  },
  {
   "cell_type": "code",
   "execution_count": 86,
   "metadata": {},
   "outputs": [],
   "source": [
    "import os\n",
    "import json\n",
    "import requests\n",
    "from dotenv import load_dotenv\n",
    "\n",
    "from gigachat import GigaChat"
   ]
  },
  {
   "cell_type": "markdown",
   "metadata": {},
   "source": [
    "# Data"
   ]
  },
  {
   "cell_type": "code",
   "execution_count": 5,
   "metadata": {},
   "outputs": [
    {
     "data": {
      "text/plain": [
       "{'id': '7DBD44',\n",
       " 'task': 'Выберите один или несколько правильных ответов.\\nУкажите варианты ответов, в которых в обоих словах одного ряда пропущена одна и та же буква. Запишите номера ответов.\\nнедолюбл..вать, завлад..вать\\nизменч..вость, варень..це\\nвыносл..вый, рассматр..вая\\nотрасл..вой, гречн..вый\\nсветл..нький, медвед..ца\\n',\n",
       " 'answer': '',\n",
       " 'tags': []}"
      ]
     },
     "execution_count": 5,
     "metadata": {},
     "output_type": "execute_result"
    }
   ],
   "source": [
    "DATA = \"../data/raw/data.json\"\n",
    "\n",
    "with open(DATA, \"r\", encoding=\"utf-8\") as file:\n",
    "    data = json.load(file)\n",
    "\n",
    "data[0]"
   ]
  },
  {
   "cell_type": "code",
   "execution_count": 85,
   "metadata": {},
   "outputs": [],
   "source": [
    "load_dotenv()\n",
    "MISTRAL_API_KEY = os.getenv(\"MISTRAL_API_KEY\")\n",
    "GIGACHAT_API_KEY = os.getenv(\"GIGACHAT_API_KEY\")"
   ]
  },
  {
   "cell_type": "code",
   "execution_count": null,
   "metadata": {},
   "outputs": [],
   "source": [
    "def call_mistral(query: str) -> str:\n",
    "    headers = {\n",
    "        \"Authorization\": f\"Bearer {MISTRAL_API_KEY}\",\n",
    "        \"Content-Type\": \"application/json\",\n",
    "    }\n",
    "\n",
    "    # Define the payload with the user query\n",
    "    payload = {\n",
    "        \"messages\": [\n",
    "            {\n",
    "                \"role\": \"system\",\n",
    "                \"content\": \"\"\"\n",
    "                    Вы студент, который отлично решает экзаменационные задачи.\n",
    "                    Следуйте инструкциям, указанным в задании. Формат ответа\n",
    "                    строгий и описан в тексте.\n",
    "                    Не пишите ничего, кроме ответа. Ответ должен быть на русском языке.\n",
    "                    Не пишите пояснение к ответу. Любой текст, кроме ответа\n",
    "                    будет считаться неправильным ответом. Ваша задача — набрать\n",
    "                    максимум баллов\n",
    "                \"\"\",\n",
    "            },\n",
    "            {\"role\": \"user\", \"content\": query},\n",
    "        ],\n",
    "        \"model\": \"mistral-large-latest\",\n",
    "        \"temperature\": 0.8,\n",
    "        \"top_p\": 0.95,\n",
    "    }\n",
    "\n",
    "    try:\n",
    "        # Make the API request\n",
    "        response = requests.post(\n",
    "            \"https://api.mistral.ai/v1/chat/completions\", headers=headers, json=payload\n",
    "        )\n",
    "\n",
    "        # Check if the request was successful\n",
    "        if response.status_code == 200:\n",
    "            return response.json()[\"choices\"][0][\"message\"][\"content\"]\n",
    "        else:\n",
    "            response.raise_for_status()\n",
    "    except requests.exceptions.RequestException as e:\n",
    "        print(f\"An error occurred: {e}\")\n",
    "        return None\n",
    "\n",
    "\n",
    "giga = GigaChat(\n",
    "    credentials=GIGACHAT_API_KEY,\n",
    "    model=\"GigaChat-Pro\",\n",
    "    verify_ssl_certs=False,\n",
    ")\n",
    "\n",
    "\n",
    "def call_gigachat(query: str) -> str:\n",
    "    return (\n",
    "        giga.chat(\n",
    "            {\n",
    "                \"messages\": [\n",
    "                    {\n",
    "                        \"role\": \"system\",\n",
    "                        \"content\": \"\"\"\n",
    "                            Вы студент, который отлично решает экзаменационные задачи по русскому языку.\n",
    "                            Следуйте инструкциям, указанным в задании. Формат ответа строгий и описан в тексте.\n",
    "                            Если \n",
    "                        \"\"\",\n",
    "                    },\n",
    "                    {\"role\": \"user\", \"content\": query},\n",
    "                ],\n",
    "                \"temperature\": 0.1,\n",
    "                \"top_p\": 1,\n",
    "            }\n",
    "        )\n",
    "        .choices[0]\n",
    "        .message.content\n",
    "    )"
   ]
  },
  {
   "cell_type": "markdown",
   "metadata": {},
   "source": [
    "# Experiments"
   ]
  },
  {
   "cell_type": "code",
   "execution_count": 128,
   "metadata": {},
   "outputs": [
    {
     "name": "stdout",
     "output_type": "stream",
     "text": [
      "Выберите один или несколько правильных ответов.\n",
      "Укажите варианты ответов, в которых в обоих словах одного ряда пропущена одна и та же буква. Запишите номера ответов.\n",
      "подразум..вая, налаж..вать\n",
      "алюмини..вый, затм..вать\n",
      "раскра..вать, болот..стая (местность)\n",
      "милост..вый, (улицы) обезлюд..ли\n",
      "гру́ш..вый (сок), берест..ной \n",
      "\n"
     ]
    },
    {
     "data": {
      "text/plain": [
       "'13'"
      ]
     },
     "execution_count": 128,
     "metadata": {},
     "output_type": "execute_result"
    }
   ],
   "source": [
    "task = data[566][\"task\"]\n",
    "print(task)\n",
    "response = call_gigachat(task)\n",
    "response"
   ]
  },
  {
   "cell_type": "code",
   "execution_count": null,
   "metadata": {},
   "outputs": [
    {
     "data": {
      "text/plain": [
       "'Для решения этой задачи воспользуемся формулой площади равностороннего треугольника через сторону и высоту:\\n\\n$$S = \\\\frac{1}{2}ah,$$\\n\\nгде $a$ - сторона треугольника, а $h$ - высота.\\n\\nПо условию задачи высота $h$ равна 3. Сторона равностороннего треугольника вычисляется по формуле:\\n\\n$$a = \\\\frac{2h}{\\\\sqrt{3}},$$\\n\\nподставляем значение высоты:\\n\\n$$a = \\\\frac{2*3}{\\\\sqrt{3}} = \\\\frac{6}{\\\\sqrt{3}}.$$\\n\\nУпростим дробь, умножив числитель и знаменатель на $\\\\sqrt{3}$:\\n\\n$$a = \\\\frac{6\\\\sqrt{3}}{3} = 2\\\\sqrt{3}.$$\\n\\nТеперь подставим значения стороны и высоты в формулу площади:\\n\\n$$S = \\\\frac{1}{2} * 2\\\\sqrt{3} * 3 = \\\\sqrt{3} * 3 = 3\\\\sqrt{3}.$$'"
      ]
     },
     "execution_count": 130,
     "metadata": {},
     "output_type": "execute_result"
    }
   ],
   "source": [
    "call_gigachat(\"\")"
   ]
  },
  {
   "cell_type": "code",
   "execution_count": null,
   "metadata": {},
   "outputs": [],
   "source": []
  },
  {
   "cell_type": "code",
   "execution_count": null,
   "metadata": {},
   "outputs": [],
   "source": []
  }
 ],
 "metadata": {
  "kernelspec": {
   "display_name": "de",
   "language": "python",
   "name": "python3"
  },
  "language_info": {
   "codemirror_mode": {
    "name": "ipython",
    "version": 3
   },
   "file_extension": ".py",
   "mimetype": "text/x-python",
   "name": "python",
   "nbconvert_exporter": "python",
   "pygments_lexer": "ipython3",
   "version": "3.12.7"
  }
 },
 "nbformat": 4,
 "nbformat_minor": 2
}
