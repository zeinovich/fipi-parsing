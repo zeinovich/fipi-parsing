{
 "cells": [
  {
   "cell_type": "code",
   "execution_count": 69,
   "metadata": {},
   "outputs": [],
   "source": [
    "import sqlite3\n",
    "import json\n",
    "from typing import List\n",
    "\n",
    "def get_tags(db_path: str) -> List[str]:\n",
    "    conn = sqlite3.connect(db_path)\n",
    "    cursor = conn.cursor()\n",
    "\n",
    "    cursor.execute(\"SELECT tags FROM tasks\")\n",
    "    all_tags = cursor.fetchall()\n",
    "    \n",
    "    tags_count = dict()\n",
    "    for tag_json, in all_tags:\n",
    "        tags_list = json.loads(tag_json)[0]\n",
    "        for tag in tags_list:\n",
    "            tags_count[tag] = tags_count.get(tag, 0) + 1\n",
    "    \n",
    "    conn.close()\n",
    "    return tags_count\n",
    "\n",
    "def get_answer_types(db_path: str) -> List[str]:\n",
    "    conn = sqlite3.connect(db_path)\n",
    "    cursor = conn.cursor()\n",
    "\n",
    "    cursor.execute(\"SELECT answer_type FROM tasks\")\n",
    "    all_answer_types = cursor.fetchall()\n",
    "    answer_types = dict()\n",
    "    for answer_type, in all_answer_types:\n",
    "        answer_types[answer_type] = answer_types.get(answer_type, 0) + 1\n",
    "    conn.close()\n",
    "    return answer_types"
   ]
  },
  {
   "cell_type": "code",
   "execution_count": 70,
   "metadata": {},
   "outputs": [],
   "source": [
    "DEFAULT_DB_PATH = \"../artifacts/tasks.db\""
   ]
  },
  {
   "cell_type": "code",
   "execution_count": 71,
   "metadata": {},
   "outputs": [
    {
     "name": "stdout",
     "output_type": "stream",
     "text": [
      "----------\n",
      "Tag name: 3.2.3  Основные нормы современного литературного произношения: произношение безударных гласных звуков, некоторых согласных, сочетаний согласных. Произношение некоторых грамматических форм. Особенности произношения иноязычных слов. Нормы ударения в современном литературном русском языке\n",
      "Number of tasks: 101\n",
      "----------\n",
      "----------\n",
      "Tag name: 3.3.3  Основные лексические нормы современного русского литературного языка. Многозначные слова и омонимы, их употребление. Синонимы, антонимы, паронимы и их употребление. Иноязычные слова и их употребление. Лексическая сочетаемость. Тавтология. Плеоназм\n",
      "Number of tasks: 154\n",
      "----------\n",
      "----------\n",
      "Tag name: 3.5.2  Основные нормы употребления имён существительных: форм рода, числа, падежа\n",
      "Number of tasks: 59\n",
      "----------\n",
      "----------\n",
      "Tag name: 3.5.3  Основные нормы употребления имён прилагательных: форм степеней сравнения, краткой формы\n",
      "Number of tasks: 59\n",
      "----------\n",
      "----------\n",
      "Tag name: 3.5.4  Основные нормы употребления количественных, порядковых и собирательных числительных\n",
      "Number of tasks: 59\n",
      "----------\n",
      "----------\n",
      "Tag name: 3.5.5  Основные нормы употребления местоимений: формы 3-го лица личных местоимений, возвратного местоимения себя\n",
      "Number of tasks: 59\n",
      "----------\n",
      "----------\n",
      "Tag name: 3.5.6  Основные нормы употребления глаголов: некоторых личных форм (типа победить, убедить, выздороветь), возвратных и невозвратных глаголов; образования некоторых глагольных форм: форм прошедшего времени с суффиксом -ну-, форм повелительного наклонения\n",
      "Number of tasks: 59\n",
      "----------\n",
      "----------\n",
      "Tag name: 3.6.3  Основные нормы согласования сказуемого с под лежащим, в состав которого входят слова множество, ряд, большинство, меньшинство; с подлежащим, выраженным количественно-именным сочетанием (двадцать лет, пять человек); имеющим в своём составе числи тельные, оканчивающиеся на один; имеющим в своём составе числительные два, три, четыре или числительное, оканчивающееся на два, три, четыре. Согласование сказуемого с подлежащим, имеющим при себе приложение (типа диван-кровать, озеро Байкал). Согласование сказуемого с подлежащим, выраженным аббревиатурой, заимствованным несклоняемым существительным\n",
      "Number of tasks: 51\n",
      "----------\n",
      "----------\n",
      "Tag name: 3.6.4  Основные нормы управления: правильный выбор падежной или предложно-падежной формы управляемого слова\n",
      "Number of tasks: 51\n",
      "----------\n",
      "----------\n",
      "Tag name: 3.6.5  Основные нормы употребления однородных членов предложения\n",
      "Number of tasks: 51\n",
      "----------\n",
      "----------\n",
      "Tag name: 3.6.6  Основные нормы употребления причастных и деепричастных оборотов\n",
      "Number of tasks: 51\n",
      "----------\n",
      "----------\n",
      "Tag name: 3.6.7  Основные нормы построения сложных предложений\n",
      "Number of tasks: 51\n",
      "----------\n",
      "----------\n",
      "Tag name: 3.7.2  Правописание гласных и согласных в корне\n",
      "Number of tasks: 58\n",
      "----------\n",
      "----------\n",
      "Tag name: 3.7.3  Употребление ъ и ь (в том числе разделительных)\n",
      "Number of tasks: 48\n",
      "----------\n",
      "----------\n",
      "Tag name: 3.7.4  Правописание приставок. Буквы ы – и после при ставок\n",
      "Number of tasks: 59\n",
      "----------\n",
      "----------\n",
      "Tag name: 3.7.5  Правописание суффиксов\n",
      "Number of tasks: 107\n",
      "----------\n",
      "----------\n",
      "Tag name: 3.7.6  Правописание н и нн в словах различных частей речи\n",
      "Number of tasks: 58\n",
      "----------\n",
      "----------\n",
      "Tag name: 3.7.7  Правописание не и ни\n",
      "Number of tasks: 56\n",
      "----------\n",
      "----------\n",
      "Tag name: 3.7.8  Правописание окончаний имён существительных, имён прилагательных и глаголов\n",
      "Number of tasks: 59\n",
      "----------\n",
      "----------\n",
      "Tag name: 3.7.9  Слитное, дефисное и раздельное написание слов разных частей речи\n",
      "Number of tasks: 56\n",
      "----------\n",
      "----------\n",
      "Tag name: 3.8.1  Пунктуационный анализ предложения\n",
      "Number of tasks: 54\n",
      "----------\n",
      "----------\n",
      "Tag name: 3.8.3  Знаки препинания между подлежащим и сказуемым\n",
      "Number of tasks: 48\n",
      "----------\n",
      "----------\n",
      "Tag name: 3.8.4  Знаки препинания в предложениях с однородными членами\n",
      "Number of tasks: 113\n",
      "----------\n",
      "----------\n",
      "Tag name: 3.8.5  Знаки препинания при обособлении\n",
      "Number of tasks: 124\n",
      "----------\n",
      "----------\n",
      "Tag name: 3.8.6  Знаки препинания в предложениях с вводными конструкциями, обращениями, междометиями\n",
      "Number of tasks: 116\n",
      "----------\n",
      "----------\n",
      "Tag name: 3.8.7  Знаки препинания в сложном предложении\n",
      "Number of tasks: 225\n",
      "----------\n",
      "----------\n",
      "Tag name: 3.8.8  Знаки препинания в сложном предложении с разными видами связи\n",
      "Number of tasks: 89\n",
      "----------\n",
      "----------\n",
      "Tag name: 3.8.9  Знаки препинания при передаче чужой речи\n",
      "Number of tasks: 48\n",
      "----------\n",
      "Total tags: 28\n",
      "Total high-level tags: 6\n"
     ]
    }
   ],
   "source": [
    "tags = get_tags(DEFAULT_DB_PATH)\n",
    "high_level_tags = set()\n",
    "for tag, count in sorted(tags.items()):\n",
    "    print('-' * 10)\n",
    "    print(f'Tag name: {tag}')\n",
    "    print(f'Number of tasks: {count}')\n",
    "    print('-' * 10)\n",
    "    tag_id = tag.split()[0]\n",
    "    high_level_tag = tag_id[:-2]\n",
    "    high_level_tags.add(high_level_tag)\n",
    "print(f'Total tags: {len(tags.keys())}')\n",
    "print(f'Total high-level tags: {len(high_level_tags)}')"
   ]
  },
  {
   "cell_type": "code",
   "execution_count": 72,
   "metadata": {},
   "outputs": [
    {
     "name": "stdout",
     "output_type": "stream",
     "text": [
      "----------\n",
      "Answer type: Выбор ответов из предложенных вариантов\n",
      "Number of tasks: 289\n",
      "----------\n",
      "----------\n",
      "Answer type: Краткий ответ\n",
      "Number of tasks: 880\n",
      "----------\n",
      "----------\n",
      "Answer type: Установление соответствия\n",
      "Number of tasks: 51\n",
      "----------\n",
      "Total answer types: 3\n",
      "Total tasks: 1220\n"
     ]
    }
   ],
   "source": [
    "answer_types = get_answer_types(DEFAULT_DB_PATH)\n",
    "for answer_type, count in answer_types.items():\n",
    "    print('-' * 10)\n",
    "    print(f'Answer type: {answer_type}')\n",
    "    print(f'Number of tasks: {count}')\n",
    "    print('-' * 10)\n",
    "print(f'Total answer types: {len(answer_types.keys())}')\n",
    "print(f'Total tasks: {sum(answer_types.values())}')\n"
   ]
  },
  {
   "cell_type": "code",
   "execution_count": 77,
   "metadata": {},
   "outputs": [
    {
     "data": {
      "image/png": "[encoded data removed]",
      "text/plain": [
       "<Figure size 1500x600 with 1 Axes>"
      ]
     },
     "metadata": {},
     "output_type": "display_data"
    }
   ],
   "source": [
    "import matplotlib.pyplot as plt\n",
    "\n",
    "plt.figure(figsize=(15, 6))\n",
    "tag_names = []\n",
    "tag_counts = []\n",
    "for tag, count in sorted(tags.items()):\n",
    "    tag_names.append(tag.split()[0])\n",
    "    tag_counts.append(count)\n",
    "plt.bar(tag_names, tag_counts)\n",
    "plt.xticks(rotation=90)\n",
    "plt.title('Distribution of Tags')\n",
    "plt.xlabel('Tag')\n",
    "plt.ylabel('Count')\n",
    "plt.tight_layout()\n",
    "plt.savefig('../artifacts/tags_distribution.png')\n",
    "plt.show()"
   ]
  },
  {
   "cell_type": "code",
   "execution_count": 78,
   "metadata": {},
   "outputs": [
    {
     "data": {
      "image/png": "[encoded data removed]",
      "text/plain": [
       "<Figure size 1000x500 with 1 Axes>"
      ]
     },
     "metadata": {},
     "output_type": "display_data"
    }
   ],
   "source": [
    "plt.figure(figsize=(10, 5))\n",
    "plt.bar(answer_types.keys(), answer_types.values())\n",
    "plt.title('Distribution of Answer Types')\n",
    "plt.xlabel('Answer Type')\n",
    "plt.ylabel('Count')\n",
    "plt.tight_layout()\n",
    "plt.savefig('../artifacts/answer_types_distribution.png')\n",
    "plt.show()\n"
   ]
  },
  {
   "cell_type": "code",
   "execution_count": null,
   "metadata": {},
   "outputs": [],
   "source": []
  }
 ],
 "metadata": {
  "kernelspec": {
   "display_name": "fipi-parsing",
   "language": "python",
   "name": "python3"
  },
  "language_info": {
   "codemirror_mode": {
    "name": "ipython",
    "version": 3
   },
   "file_extension": ".py",
   "mimetype": "text/x-python",
   "name": "python",
   "nbconvert_exporter": "python",
   "pygments_lexer": "ipython3",
   "version": "3.12.7"
  }
 },
 "nbformat": 4,
 "nbformat_minor": 2
}
